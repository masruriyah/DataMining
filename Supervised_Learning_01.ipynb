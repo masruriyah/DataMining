{
  "nbformat": 4,
  "nbformat_minor": 0,
  "metadata": {
    "colab": {
      "provenance": []
    },
    "kernelspec": {
      "name": "python3",
      "display_name": "Python 3"
    },
    "language_info": {
      "name": "python"
    }
  },
  "cells": [
    {
      "cell_type": "markdown",
      "source": [
        "# **Contoh Aplikasi**\n",
        "\n",
        "\n",
        "1. Data klasifikasi bunga Iris sebagai studi kasus sederhana\n",
        "2. Link data: https://archive.ics.uci.edu/ml/datasets/iris\n",
        "3. Paper sumber data: Fisher,R.A. \"The use of multiple measurements in taxonomic problems\" Annual Eugenics, 7, Part II, 179-188 (1936); also in \"Contributions to Mathematical Statistics\" (John Wiley, NY, 1950).\n",
        "4. Masalah klasifikasinya adalah mengklasifikasikan jenis Bunga Iris berdasarkan bentuk (e.g. panjang dan lebar) bunga."
      ],
      "metadata": {
        "id": "P4B47eQNwfFt"
      }
    },
    {
      "cell_type": "code",
      "source": [
        "#import some python modules\n",
        "from google.colab import drive\n",
        "drive.mount ('/content/drive')\n",
        "import warnings; warnings.simplefilter('ignore')\n",
        "import pandas as pd, seaborn as sns\n",
        "\n",
        "# load the iris data\n",
        "df = sns.load_dataset(\"iris\")\n",
        "g = sns.pairplot(df, hue=\"species\")"
      ],
      "metadata": {
        "id": "zIQck4iDw35X"
      },
      "execution_count": null,
      "outputs": []
    },
    {
      "cell_type": "code",
      "source": [
        "df.sample(10)"
      ],
      "metadata": {
        "id": "1ldPw-bdxQnN"
      },
      "execution_count": null,
      "outputs": []
    },
    {
      "cell_type": "code",
      "source": [
        "df.describe()"
      ],
      "metadata": {
        "id": "jzU_dy8txRw8"
      },
      "execution_count": null,
      "outputs": []
    },
    {
      "cell_type": "code",
      "source": [
        "# Data ini bukan murni Binary Classification\n",
        "# Kita akan ambil sebagiannya untuk menjadikannya masalah binary classification\n",
        "set(df['species'].values)"
      ],
      "metadata": {
        "id": "gqkdwTI9xVsb"
      },
      "execution_count": null,
      "outputs": []
    },
    {
      "cell_type": "code",
      "source": [
        "# Bentuk data binary dari sini menggunakan teknik di Modul 03: EDA\n",
        "# Disimpan dalam variabel baru \"df_bin\"\n",
        "df_bin = df[df[\"species\"].isin(['setosa','versicolor']) ]\n",
        "set(df_bin['species'].values)"
      ],
      "metadata": {
        "id": "PgctK4RoxYtJ"
      },
      "execution_count": null,
      "outputs": []
    },
    {
      "cell_type": "code",
      "source": [
        "df_bin.sample(7)"
      ],
      "metadata": {
        "id": "IWZBPS4gxbUl"
      },
      "execution_count": null,
      "outputs": []
    },
    {
      "cell_type": "markdown",
      "source": [
        "# **Pisahkan menjadi training dan Test Data**"
      ],
      "metadata": {
        "id": "FZeiXI8Cx7Iw"
      }
    },
    {
      "cell_type": "code",
      "source": [
        "from sklearn.model_selection import train_test_split\n",
        "\n",
        "X_train, X_test, y_train, y_test = train_test_split(df_bin[['sepal_length', 'sepal_width','petal_length','petal_width']], \n",
        "                                                    df_bin['species'], test_size=0.5)\n",
        "print(X_train.shape, X_test.shape)"
      ],
      "metadata": {
        "id": "kj_fCQimxeKU"
      },
      "execution_count": null,
      "outputs": []
    },
    {
      "cell_type": "markdown",
      "source": [
        "**Pemodelan Regresi Logistik menggunakan Python (module SciKit-Learn)**"
      ],
      "metadata": {
        "id": "z131zwYHyFpA"
      }
    },
    {
      "cell_type": "code",
      "source": [
        "from sklearn.linear_model import LogisticRegression\n",
        "\n",
        "clf = LogisticRegression().fit(X_train, y_train)"
      ],
      "metadata": {
        "id": "XbpXnhKsyAAH"
      },
      "execution_count": null,
      "outputs": []
    },
    {
      "cell_type": "code",
      "source": [
        "clf"
      ],
      "metadata": {
        "id": "k4F0xLF4yLPJ"
      },
      "execution_count": null,
      "outputs": []
    },
    {
      "cell_type": "markdown",
      "source": [
        "**Seberapa \"baik\" prediksi ini? = Akurasi/Evaluasi Model**"
      ],
      "metadata": {
        "id": "lDlnS0hZnUXm"
      }
    },
    {
      "cell_type": "code",
      "source": [
        "y_reglog = clf.predict(X_test)\n",
        "y_reglog"
      ],
      "metadata": {
        "id": "hhQD22oxrc75"
      },
      "execution_count": null,
      "outputs": []
    },
    {
      "cell_type": "code",
      "source": [
        "# Pertama-tama Kita gunakan metric/pengukuran yang umum\n",
        "from sklearn.metrics import accuracy_score\n",
        "\n",
        "accuracy_score(y_test, y_reglog)"
      ],
      "metadata": {
        "id": "02b_aE1RyQ-i"
      },
      "execution_count": null,
      "outputs": []
    },
    {
      "cell_type": "markdown",
      "source": [
        "# **contoh data lain: Data Klasifikasi Kanker**\n",
        "\n",
        "\n",
        "1. Dapat diunduh dari link ini: https://archive.ics.uci.edu/ml/datasets/Breast+Cancer+Wisconsin+(Diagnostic)\n",
        "2. Link scikit utk datanya: https://scikit-learn.org/stable/modules/generated/sklearn.datasets.load_breast_cancer.html#sklearn.datasets.load_breast_cancer"
      ],
      "metadata": {
        "id": "0nSDwB-lngOu"
      }
    },
    {
      "cell_type": "code",
      "source": [
        "from sklearn.datasets import load_breast_cancer\n",
        "\n",
        "data = load_breast_cancer()\n",
        "type(data), dir(data)"
      ],
      "metadata": {
        "id": "EOvwzm75naQr"
      },
      "execution_count": null,
      "outputs": []
    },
    {
      "cell_type": "code",
      "source": [
        "X = data.data\n",
        "print(type(X), X.shape)\n",
        "X[:3]"
      ],
      "metadata": {
        "id": "MyZqW2K7n36z"
      },
      "execution_count": null,
      "outputs": []
    },
    {
      "cell_type": "code",
      "source": [
        "Y = data.target\n",
        "print(type(Y), Y.shape)\n",
        "print(data.target_names)\n",
        "Y[-10:]"
      ],
      "metadata": {
        "id": "Zvfn6wKEn6FX"
      },
      "execution_count": null,
      "outputs": []
    },
    {
      "cell_type": "code",
      "source": [
        "X_train, X_test, y_train, y_test = train_test_split(X, Y, test_size=0.5, random_state=99)\n",
        "print(X_train.shape, X_test.shape)"
      ],
      "metadata": {
        "id": "jWmh4-Snn9ET"
      },
      "execution_count": null,
      "outputs": []
    },
    {
      "cell_type": "code",
      "source": [
        "clf = LogisticRegression().fit(X_train, y_train)\n",
        "y_reglog = clf.predict(X_test)\n",
        "accuracy_score(y_test, y_reglog)\n",
        "# Masih \"mudah\", namun lebih baik dari sebelumnya"
      ],
      "metadata": {
        "id": "Rz5OuC_Yn_xs"
      },
      "execution_count": null,
      "outputs": []
    },
    {
      "cell_type": "code",
      "source": [
        "dir(clf)"
      ],
      "metadata": {
        "id": "ItMTOZO_oCqB"
      },
      "execution_count": null,
      "outputs": []
    },
    {
      "cell_type": "code",
      "source": [
        "# Persamaannya? (ada 30 variabel)\n",
        "clf.coef_"
      ],
      "metadata": {
        "id": "bOPWXyr-oFDl"
      },
      "execution_count": null,
      "outputs": []
    },
    {
      "cell_type": "markdown",
      "source": [
        "# **Matriks Konfusi (Confussion Matrix)**"
      ],
      "metadata": {
        "id": "Q7hKAXzUobuP"
      }
    },
    {
      "cell_type": "code",
      "source": [
        "from sklearn.metrics import precision_score, recall_score, f1_score\n",
        "\n",
        "print('presisi = ', precision_score(y_test, y_reglog))\n",
        "print('Recall = ', recall_score(y_test, y_reglog))\n",
        "print('f1_score = ', f1_score(y_test, y_reglog))"
      ],
      "metadata": {
        "id": "GwDA2-yFoH_U"
      },
      "execution_count": null,
      "outputs": []
    },
    {
      "cell_type": "markdown",
      "source": [
        "**Alternatif (1)**"
      ],
      "metadata": {
        "id": "p-lhf1F7ok-y"
      }
    },
    {
      "cell_type": "code",
      "source": [
        "from sklearn.metrics import confusion_matrix, classification_report\n",
        "\n",
        "print(confusion_matrix(y_test, y_reglog))\n",
        "print(classification_report(y_test, y_reglog))"
      ],
      "metadata": {
        "id": "sbFHpLhcoZP8"
      },
      "execution_count": null,
      "outputs": []
    },
    {
      "cell_type": "markdown",
      "source": [
        "**Alternatif (2)**"
      ],
      "metadata": {
        "id": "WMWovy2Lop9C"
      }
    },
    {
      "cell_type": "code",
      "source": [
        "# Cross validation\n",
        "# Perhatikan variabelnya, kita sekarang menggunakan seluruh data\n",
        "# http://scikit-learn.org/stable/modules/generated/sklearn.model_selection.cross_val_score.html\n",
        "from sklearn.model_selection import cross_val_score\n",
        "import time\n",
        "\n",
        "mulai = time.time()\n",
        "scores_regLog = cross_val_score(clf, X, Y, cv=10) # perhatikan sekarang kita menggunakan seluruh data\n",
        "waktu = time.time() - mulai\n",
        "# Interval Akurasi 95 CI \n",
        "print(\"Accuracy Regresi Logistik: %0.2f (+/- %0.2f), Waktu = %0.3f detik\" % (scores_regLog.mean(), scores_regLog.std() * 2, waktu))"
      ],
      "metadata": {
        "id": "k7kFoyaKoo-f"
      },
      "execution_count": null,
      "outputs": []
    },
    {
      "cell_type": "code",
      "source": [
        "# Kita juga bisa menampilkan BoxPlotnya untuk mendapatkan informasi yang lebih lengkap\n",
        "%matplotlib inline\n",
        "import matplotlib.pyplot as plt; plt.style.use('classic')\n",
        "import seaborn as sns; sns.set()\n",
        "\n",
        "df = pd.DataFrame({'Regresi Logistik':scores_regLog})\n",
        "sns.boxplot(data=df)\n",
        "plt.show()"
      ],
      "metadata": {
        "id": "LI3fFZfmpfNt"
      },
      "execution_count": null,
      "outputs": []
    },
    {
      "cell_type": "markdown",
      "source": [
        "# **Regresi Logistik untuk Multiclass Classification?**"
      ],
      "metadata": {
        "id": "NgVkVn35pkdJ"
      }
    },
    {
      "cell_type": "code",
      "source": [
        "from sklearn.datasets import load_iris\n",
        "X, y = load_iris(return_X_y=True)\n",
        "set(y) # 3 Kategori"
      ],
      "metadata": {
        "id": "H-h6NQzApoYI"
      },
      "execution_count": null,
      "outputs": []
    },
    {
      "cell_type": "code",
      "source": [
        "X.shape # 4 variabel, 150 baris"
      ],
      "metadata": {
        "id": "ne4SaYH0pq0k"
      },
      "execution_count": null,
      "outputs": []
    },
    {
      "cell_type": "code",
      "source": [
        "clf = LogisticRegression(multi_class='ovr').fit(X, y)\n",
        "clf.coef_\n",
        "# Perhatikan ada 3 persamaan"
      ],
      "metadata": {
        "id": "04czw43qptK9"
      },
      "execution_count": null,
      "outputs": []
    },
    {
      "cell_type": "markdown",
      "source": [
        "# **k-Nearest Neighbour**"
      ],
      "metadata": {
        "id": "x3kKb3Lupz86"
      }
    },
    {
      "cell_type": "code",
      "source": [
        "# k-NN: http://scikit-learn.org/stable/modules/neighbors.html\n",
        "from sklearn import neighbors\n",
        "\n",
        "n_neighbors = 3\n",
        "weights = 'distance'\n",
        "kNN = neighbors.KNeighborsClassifier(n_neighbors, weights=weights)\n",
        "kNN.fit(X_train, y_train)\n",
        "print('Done!')"
      ],
      "metadata": {
        "id": "l9FDJqYdp4ni"
      },
      "execution_count": null,
      "outputs": []
    },
    {
      "cell_type": "code",
      "source": [
        "# Prediksi dengan k-NN\n",
        "y_kNN = kNN.predict(X_test)\n",
        "y_kNN[-10:]"
      ],
      "metadata": {
        "id": "ikaBI5LLp8MJ"
      },
      "execution_count": null,
      "outputs": []
    },
    {
      "cell_type": "code",
      "source": [
        "# Akurasi\n",
        "accuracy_score(y_test, y_kNN)"
      ],
      "metadata": {
        "id": "8N1_VN4Tp-Vi"
      },
      "execution_count": null,
      "outputs": []
    },
    {
      "cell_type": "code",
      "source": [
        "# Cross Validasi\n",
        "del kNN\n",
        "kNN = neighbors.KNeighborsClassifier(n_neighbors, weights=weights)\n",
        "\n",
        "mulai = time.time()\n",
        "scores_kNN = cross_val_score(kNN, X, y, cv=10) # perhatikan sekarang kita menggunakan seluruh data\n",
        "waktu = time.time() - mulai\n",
        "# Interval Akurasi 95 CI \n",
        "print(\"Accuracy kNN: %0.2f (+/- %0.2f), Waktu = %0.3f detik\" % (scores_kNN.mean(), scores_kNN.std() * 2, waktu))"
      ],
      "metadata": {
        "id": "yR90g7i6qD2c"
      },
      "execution_count": null,
      "outputs": []
    },
    {
      "cell_type": "markdown",
      "source": [
        "# **Decision Tree**"
      ],
      "metadata": {
        "id": "jSvJ7LfjqGgl"
      }
    },
    {
      "cell_type": "code",
      "source": [
        "# Decision Tree: http://scikit-learn.org/stable/modules/tree.html\n",
        "from sklearn import tree\n",
        "\n",
        "DT = tree.DecisionTreeClassifier()\n",
        "DT = DT.fit(X_train, y_train)\n",
        "y_DT = DT.predict(X_test)\n",
        "print(accuracy_score(y_test, y_DT))\n",
        "print(confusion_matrix(y_test, y_DT))\n",
        "print(classification_report(y_test, y_DT))"
      ],
      "metadata": {
        "id": "8g3KbRt4qF_Z"
      },
      "execution_count": null,
      "outputs": []
    },
    {
      "cell_type": "code",
      "source": [
        "# Load ulang Data\n",
        "df = sns.load_dataset(\"iris\")\n",
        "df.sample(7)"
      ],
      "metadata": {
        "id": "LmqbI_L6qWua"
      },
      "execution_count": null,
      "outputs": []
    },
    {
      "cell_type": "code",
      "source": [
        "# Separate Data\n",
        "X = df[['sepal_length','sepal_width','petal_length','petal_width']]\n",
        "Y = df['species']\n",
        "seed = 9\n",
        "validation_size = 0.3\n",
        "X_train, X_test, Y_train, Y_test = train_test_split(X, Y, test_size=validation_size, random_state=seed)\n",
        "print(X_train.shape, len(Y_test))"
      ],
      "metadata": {
        "id": "-cyRyQ_OqYjl"
      },
      "execution_count": null,
      "outputs": []
    },
    {
      "cell_type": "code",
      "source": [
        "# Build the model and Evaluate\n",
        "dt_model = tree.DecisionTreeClassifier(criterion='entropy', max_depth=3, random_state=seed) # Default Gini\n",
        "dt = dt_model.fit(X_train, Y_train)\n",
        "dt_prediction = dt.predict(X_test)\n",
        "print('Akurasi = ', accuracy_score(Y_test, dt_prediction))\n",
        "print(confusion_matrix(Y_test, dt_prediction))\n",
        "print(classification_report(Y_test, dt_prediction))"
      ],
      "metadata": {
        "id": "-MsepDuCqbCW"
      },
      "execution_count": null,
      "outputs": []
    },
    {
      "cell_type": "code",
      "source": [
        "# Varible importance - Salah satu kelebihan Decision Tree\n",
        "dt.feature_importances_"
      ],
      "metadata": {
        "id": "bUZFHe7OqdQC"
      },
      "execution_count": null,
      "outputs": []
    },
    {
      "cell_type": "code",
      "source": [
        "# Kelebihan lain Decision Tree yang tidak dimiliki model lain\n",
        "\n",
        "# \"WARNING\" \n",
        "# 1. tidak bisa dijalankan di Google Colab\n",
        "# 2. membutuhkan software \"graphViz\" + setting system variabel\n",
        "# caranya ada disini: https://stackoverflow.com/questions/49471867/installing-graphviz-for-use-with-python-3-on-windows-10\n",
        "# installernya ada di Folder \"UIN Bandung\" yang diawal di copy dari flashDisk\n",
        "\n",
        "import graphviz\n",
        "\n",
        "dot_data = tree.export_graphviz(dt, out_file=None) \n",
        "graph = graphviz.Source(dot_data) \n",
        "graph.render(\"iris\") \n",
        "var_names = ['sepal_length','sepal_width','petal_length','petal_width']\n",
        "categories = ['Setosa', 'VersiColor', 'Virginica']\n",
        "dot_data = tree.export_graphviz(dt, out_file=None, \n",
        "                         feature_names = var_names,  \n",
        "                         class_names=categories,  \n",
        "                         filled=True, rounded=True,  \n",
        "                         special_characters=True)  \n",
        "graph = graphviz.Source(dot_data)  \n",
        "graph "
      ],
      "metadata": {
        "id": "2AhbUko_qfVT"
      },
      "execution_count": null,
      "outputs": []
    },
    {
      "cell_type": "markdown",
      "source": [
        "# **Naive Bayes**"
      ],
      "metadata": {
        "id": "8uefMHjnqlUS"
      }
    },
    {
      "cell_type": "code",
      "source": [
        "# Naive Bayes: http://scikit-learn.org/stable/modules/naive_bayes.html\n",
        "from sklearn.naive_bayes import GaussianNB\n",
        "\n",
        "gnb = GaussianNB()\n",
        "nbc = gnb.fit(X_train, Y_train)\n",
        "nbc_prediction = nbc.predict(X_test)\n",
        "\n",
        "print('Akurasi = ', accuracy_score(Y_test, nbc_prediction))\n",
        "print(confusion_matrix(Y_test, nbc_prediction))\n",
        "print(classification_report(Y_test, nbc_prediction))"
      ],
      "metadata": {
        "id": "EA44-mBhqiCZ"
      },
      "execution_count": null,
      "outputs": []
    },
    {
      "cell_type": "code",
      "source": [
        "# Model Comparisons using Cross Validation\n",
        "X = df[['sepal_length','sepal_width','petal_length','petal_width']]\n",
        "Y = df['species']\n",
        "\n",
        "Models = [('Regresi Logistik',clf), ('k-NN',kNN),('Naive Bayes',gnb), ('Decision Tree',DT)]\n",
        "Scores = {}\n",
        "for model_name, model in Models:\n",
        "    if model_name=='Naive Bayes':\n",
        "        Scores[model_name] = cross_val_score(model, X.values, Y, cv=10,scoring='accuracy')\n",
        "    else:\n",
        "        Scores[model_name] = cross_val_score(model, X, Y, cv=10,scoring='accuracy')\n",
        "        \n",
        "dt = pd.DataFrame.from_dict(Scores)\n",
        "ax = sns.boxplot(data=dt)"
      ],
      "metadata": {
        "id": "wgn7lEjlqqNe"
      },
      "execution_count": null,
      "outputs": []
    },
    {
      "cell_type": "code",
      "source": [],
      "metadata": {
        "id": "YRm-2myLsPkL"
      },
      "execution_count": null,
      "outputs": []
    }
  ]
}