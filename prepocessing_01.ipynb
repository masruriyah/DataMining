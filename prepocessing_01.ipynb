{
  "nbformat": 4,
  "nbformat_minor": 0,
  "metadata": {
    "colab": {
      "provenance": []
    },
    "kernelspec": {
      "name": "python3",
      "display_name": "Python 3"
    },
    "language_info": {
      "name": "python"
    }
  },
  "cells": [
    {
      "cell_type": "markdown",
      "source": [
        "# **Functions and Data**"
      ],
      "metadata": {
        "id": "nTg2i3_mBUTL"
      }
    },
    {
      "cell_type": "code",
      "execution_count": null,
      "metadata": {
        "id": "ASAN1rIb_m3E"
      },
      "outputs": [],
      "source": [
        "#import some python modules\n",
        "import scipy , itertools, pandas as pd, matplotlib.pyplot as plt, seaborn as sns, numpy as np\n",
        "from scipy import stats\n",
        "from sklearn.preprocessing import StandardScaler, MinMaxScaler\n",
        "\n",
        "from google.colab import drive\n",
        "drive.mount ('/content/drive')\n",
        "\n",
        "plt.style.use ('bmh'); sns.set()"
      ]
    },
    {
      "cell_type": "code",
      "source": [
        "#Import data\n",
        "price = pd.read_csv('/content/drive/MyDrive/01. Materi Kuliah UBP Karawang/Data Mining/Kode/Data/price.csv')"
      ],
      "metadata": {
        "id": "LvzS5HyM6D1S"
      },
      "execution_count": null,
      "outputs": []
    },
    {
      "cell_type": "code",
      "source": [
        "# Ukuran Data\n",
        "N, P = price.shape\n",
        "print('baris = ', N, ', Kolom = ', P)"
      ],
      "metadata": {
        "id": "aY7tFa50APbi"
      },
      "execution_count": null,
      "outputs": []
    },
    {
      "cell_type": "code",
      "source": [
        "# tipe data di setiap kolom\n",
        "# Wajib di periksa apakah tipe datanya sudah tepat?\n",
        "# Perhatikan df sebagaimana semua variable di Python diperlakukan seperti object\n",
        "price.info()"
      ],
      "metadata": {
        "id": "vVe5GHzVAjZF"
      },
      "execution_count": null,
      "outputs": []
    },
    {
      "cell_type": "code",
      "source": [
        "# \"Mengintip\" beberapa data pertamanya\n",
        "price.head(10)"
      ],
      "metadata": {
        "id": "MBrkx8c8AucF"
      },
      "execution_count": null,
      "outputs": []
    },
    {
      "cell_type": "code",
      "source": [
        "# \"Mengintip\" beberapa data akhirnya\n",
        "price.tail(7)"
      ],
      "metadata": {
        "id": "s1N9wxeGAzi1"
      },
      "execution_count": null,
      "outputs": []
    },
    {
      "cell_type": "code",
      "source": [
        "# chosen at random\n",
        "price.sample(8)"
      ],
      "metadata": {
        "id": "NWR4W_i5A6ag"
      },
      "execution_count": null,
      "outputs": []
    },
    {
      "cell_type": "markdown",
      "source": [
        "# **Removing Variables**"
      ],
      "metadata": {
        "id": "dQIbEFPaBMLI"
      }
    },
    {
      "cell_type": "code",
      "source": [
        "price.head(10)"
      ],
      "metadata": {
        "id": "iIJOIJhJBJfo"
      },
      "execution_count": null,
      "outputs": []
    },
    {
      "cell_type": "code",
      "source": [
        "price.describe()"
      ],
      "metadata": {
        "id": "dxPmI9aBBjXN"
      },
      "execution_count": null,
      "outputs": []
    },
    {
      "cell_type": "code",
      "source": [
        "# Drop kolom pertama karena tidak berguna (hanya index)\n",
        "price.drop(\"Observation\", axis=1, inplace=True)\n",
        "price.dtypes"
      ],
      "metadata": {
        "id": "hzRrrt50BmAB"
      },
      "execution_count": null,
      "outputs": []
    },
    {
      "cell_type": "code",
      "source": [
        "# Merubah tipe data \"jika\" tidak tepat, contoh:\n",
        "price.dtypes"
      ],
      "metadata": {
        "id": "rTioofkmBsrW"
      },
      "execution_count": null,
      "outputs": []
    },
    {
      "cell_type": "code",
      "source": [
        "# dataframe types: https://pbpython.com/pandas_dtypes.html\n",
        "price['Parking'] = price['Parking'].astype('category')\n",
        "price['City_Category'] = price['City_Category'].astype('category')\n",
        "price.dtypes"
      ],
      "metadata": {
        "id": "55-gpsWUB30_"
      },
      "execution_count": null,
      "outputs": []
    },
    {
      "cell_type": "markdown",
      "source": [
        "# **Statiska Deskriptif**"
      ],
      "metadata": {
        "id": "mCxYyKedEH4K"
      }
    },
    {
      "cell_type": "code",
      "source": [
        "# Statistika Sederhana dari data \"Numerik\"-nya\n",
        "price.describe(include='all')"
      ],
      "metadata": {
        "id": "_7RMvgY6ENsp"
      },
      "execution_count": null,
      "outputs": []
    },
    {
      "cell_type": "code",
      "source": [
        "# ini adalah parameter tambahan jika kita juga ingin mendapatkan statistik sederhana seluruh datanya\n",
        "# (termasuk data kategorik)\n",
        "price[['Dist_Taxi','Parking']].describe(include='all')"
      ],
      "metadata": {
        "id": "X-KWeykHEPBy"
      },
      "execution_count": null,
      "outputs": []
    },
    {
      "cell_type": "markdown",
      "source": [
        "# **Variable Selection**"
      ],
      "metadata": {
        "id": "FFjJBXRdFgHa"
      }
    },
    {
      "cell_type": "code",
      "source": [
        "# Memilih hanya variable dengan tipe tertentu\n",
        "price_num = price.select_dtypes(include = ['float64', 'int64'])\n",
        "price_num.head()"
      ],
      "metadata": {
        "id": "JOnBagXuFkdw"
      },
      "execution_count": null,
      "outputs": []
    },
    {
      "cell_type": "code",
      "source": [
        "# Memilih hanya variable dengan tipe tertentu\n",
        "price_cat = price.select_dtypes(include = ['category'])\n",
        "price_cat.head()"
      ],
      "metadata": {
        "id": "z1s7mQZ2FlPr"
      },
      "execution_count": null,
      "outputs": []
    },
    {
      "cell_type": "code",
      "source": [
        "df = pd.get_dummies(price['Parking'], prefix='Park')\n",
        "df.head()"
      ],
      "metadata": {
        "id": "HO2ZB3_tFoay"
      },
      "execution_count": null,
      "outputs": []
    },
    {
      "cell_type": "markdown",
      "source": [
        "# **Menggabungkan dengan Data Awal**"
      ],
      "metadata": {
        "id": "M4J48SbCFr--"
      }
    },
    {
      "cell_type": "code",
      "source": [
        "df2 = pd.concat([price, df], axis = 1)\n",
        "df2.head(5)"
      ],
      "metadata": {
        "id": "hhu8wADsF04u"
      },
      "execution_count": null,
      "outputs": []
    },
    {
      "cell_type": "code",
      "source": [
        "# Choosing some columns manually\n",
        "X = price[['House_Price','Dist_Market']] \n",
        "X[:10]"
      ],
      "metadata": {
        "id": "QFpcpvbxF4YL"
      },
      "execution_count": null,
      "outputs": []
    },
    {
      "cell_type": "markdown",
      "source": [
        "# **Distribusi nilai pada setiap variabel kategorik**"
      ],
      "metadata": {
        "id": "eQ01ZkBPGCyH"
      }
    },
    {
      "cell_type": "code",
      "source": [
        "# get all unique values of a variable/column\n",
        "for col in price_cat.columns:\n",
        "    print(col,': ', set(price[col].unique()))"
      ],
      "metadata": {
        "id": "OdBrOgMhGGs6"
      },
      "execution_count": null,
      "outputs": []
    },
    {
      "cell_type": "code",
      "source": [
        "price['Parking'].unique()"
      ],
      "metadata": {
        "id": "nT0OhFoIGNQP"
      },
      "execution_count": null,
      "outputs": []
    },
    {
      "cell_type": "code",
      "source": [
        "# price\n",
        "# Jika yang dibutuhkan memang hanya nama kolom, maka kita bisa melakukan hal ini untuk menghemat penggunaan memory\n",
        "numVar = price.select_dtypes(include = ['float64', 'int64']).columns\n",
        "list(numVar)"
      ],
      "metadata": {
        "id": "6-PyhBpBGPkH"
      },
      "execution_count": null,
      "outputs": []
    },
    {
      "cell_type": "code",
      "source": [
        "# Distribusi tiap data\n",
        "price['Parking'].value_counts()\n",
        "# kita bisa juga visualisasikan informasi ini"
      ],
      "metadata": {
        "id": "2DeprgVZGR82"
      },
      "execution_count": null,
      "outputs": []
    },
    {
      "cell_type": "code",
      "source": [
        "plt.figure(figsize=(8,6)) # https://matplotlib.org/api/_as_gen/matplotlib.pyplot.figure.html#matplotlib.pyplot.figure\n",
        "p = sns.countplot(x=\"Parking\", data=price)"
      ],
      "metadata": {
        "id": "OvcpiGU3GUYq"
      },
      "execution_count": null,
      "outputs": []
    },
    {
      "cell_type": "code",
      "source": [
        "# ini dilakukan jika kita ingin menyimpan plotnya ke dalam suatu file\n",
        "p.figure.savefig('barChart.png')\n",
        "# lihat di folder ipynb-nya akan muncul file baru."
      ],
      "metadata": {
        "id": "cTdBcapNGXbJ"
      },
      "execution_count": null,
      "outputs": []
    },
    {
      "cell_type": "code",
      "source": [
        "# PieChart\n",
        "plot = price.Parking.value_counts().plot(kind='pie')"
      ],
      "metadata": {
        "id": "BPiXIHkdGjdx"
      },
      "execution_count": null,
      "outputs": []
    },
    {
      "cell_type": "markdown",
      "source": [
        "Apakah ada kecenderungan perbedaan harga rumah akibat dari tipe tempat parkir?"
      ],
      "metadata": {
        "id": "Qn1ObKs7F5W_"
      }
    },
    {
      "cell_type": "code",
      "source": [
        "p= sns.catplot(x=\"Parking\", y=\"House_Price\", data=price)\n",
        "# Apa yang bisa dilihat dari hasil ini?"
      ],
      "metadata": {
        "id": "2_jiT5GnIbJj"
      },
      "execution_count": null,
      "outputs": []
    },
    {
      "cell_type": "markdown",
      "source": [
        "# **Univariate Outlier removal**"
      ],
      "metadata": {
        "id": "YjDMgpSYIZdh"
      }
    },
    {
      "cell_type": "code",
      "source": [
        "# Distributions\n",
        "p = sns.distplot(price['House_Price'], kde=True, rug=True)"
      ],
      "metadata": {
        "id": "JYggSp5AIsNB"
      },
      "execution_count": null,
      "outputs": []
    },
    {
      "cell_type": "code",
      "source": [
        "# Misal dengan asumsi data berdistribusi normal\n",
        "# dan menggunakan 99% confidence interval di sekitar variabel \"harga\"\n",
        "\n",
        "df = np.abs(price.House_Price - price.House_Price.mean())<=(2*price.House_Price.std())\n",
        "# mu-2s<x<mu+2s\n",
        "print(df.shape)\n",
        "df.head()"
      ],
      "metadata": {
        "id": "Zx7x-ub9Iutj"
      },
      "execution_count": null,
      "outputs": []
    },
    {
      "cell_type": "code",
      "source": [
        "price2 = price[df] # Data tanpa outliers\n",
        "print(price2.shape, price.shape)\n",
        "price2.head\n",
        "# Perhatikan disini sengaja data yang telah di remove outliernya \n",
        "# disimpan dalam variabel baru \"Price2\"\n",
        "# Jika datanya besar hati-hati melakukan hal ini"
      ],
      "metadata": {
        "id": "wnAfYNm5IxJl"
      },
      "execution_count": null,
      "outputs": []
    },
    {
      "cell_type": "code",
      "source": [
        "# Distributions\n",
        "p = sns.distplot(price2['House_Price'], kde=True, rug=True)"
      ],
      "metadata": {
        "id": "Ht2yZ_QOI0Tt"
      },
      "execution_count": null,
      "outputs": []
    },
    {
      "cell_type": "code",
      "source": [
        "# Plot lagi setelah outlier removal\n",
        "p= sns.catplot(x=\"Parking\", y=\"House_Price\", data=price2)\n",
        "# Apakah ada kecenderungan perbedaan harga rumah akibat dari tipe tempat parkir?"
      ],
      "metadata": {
        "id": "xB4lIOUbI2Ur"
      },
      "execution_count": null,
      "outputs": []
    },
    {
      "cell_type": "code",
      "source": [
        "# Bisa juga plot dengan informasi dari 3 variabel sekaligus\n",
        "# (untuk melihat kemungkinan faktor interaksi)\n",
        "\n",
        "p= sns.catplot(x=\"Parking\", y=\"House_Price\", hue=\"City_Category\", kind=\"swarm\", data=price2)"
      ],
      "metadata": {
        "id": "DyRLFMaHI5d_"
      },
      "execution_count": null,
      "outputs": []
    },
    {
      "cell_type": "markdown",
      "source": [
        "# **Missing Values**"
      ],
      "metadata": {
        "id": "KGjEt6s6IjR3"
      }
    },
    {
      "cell_type": "code",
      "source": [
        "# General Look at the Missing Values\n",
        "print(price2.isnull().sum())"
      ],
      "metadata": {
        "id": "AklCZPnEJemu"
      },
      "execution_count": null,
      "outputs": []
    },
    {
      "cell_type": "code",
      "source": [
        "# Simplest solution, if the MV is not a lot\n",
        "# drop rows with missing values : Ada berbagai cara\n",
        "X = price.dropna() # jika ada MV minimal satu di salah satu kolom, maka baris di hapus\n",
        "price2.dropna(how='all') # jika ada MV di semua kolom, maka baris di hapus\n",
        "price2.dropna(thresh=2) # jika ada MV minimal di salah 2 kolom, maka baris di hapus\n",
        "price2.dropna(subset=['Dist_Hospital'])[:7] # jika ada MV minimal satu di salah kolom Dist_Hospital\n",
        "# inplace=True if really really sure\n",
        "price2.dropna(inplace=True)"
      ],
      "metadata": {
        "id": "ZU9MOmQ3Jh5k"
      },
      "execution_count": null,
      "outputs": []
    },
    {
      "cell_type": "code",
      "source": [
        "print(price2.isnull().sum())"
      ],
      "metadata": {
        "id": "JbK3r1npJoBa"
      },
      "execution_count": null,
      "outputs": []
    },
    {
      "cell_type": "code",
      "source": [
        "#mengecek apakah ada duplikat data?\n",
        "print(price2.shape)\n",
        "price2.duplicated().sum()"
      ],
      "metadata": {
        "id": "9PlcsMLlJkRi"
      },
      "execution_count": null,
      "outputs": []
    },
    {
      "cell_type": "code",
      "source": [
        "#menghapus entri yang memiliki data duplikat \n",
        "price2.drop_duplicates(inplace=True)\n",
        "print(price2.duplicated().sum()) # no more duplicates\n",
        "print(price2.shape) # re-check by printing data size"
      ],
      "metadata": {
        "id": "l65yuZWrJswh"
      },
      "execution_count": null,
      "outputs": []
    },
    {
      "cell_type": "markdown",
      "source": [
        "# **(PairWise) Scatter Plot**"
      ],
      "metadata": {
        "id": "Ea60FehkJvFf"
      }
    },
    {
      "cell_type": "code",
      "source": [
        "# Scatter Plots; https://seaborn.pydata.org/generated/seaborn.pairplot.html\n",
        "p = sns.pairplot(price2, hue=\"City_Category\")\n",
        "# Warning agak lambat (variabel cukup banyak)"
      ],
      "metadata": {
        "id": "FWNNUNs1J7R6"
      },
      "execution_count": null,
      "outputs": []
    },
    {
      "cell_type": "code",
      "source": [
        "# Coba kita perhatikan sebagiannya saja dulu dan coba kelompokkan berdasarkan \"Parking\"\n",
        "p = sns.pairplot(price2[['House_Price','Builtup','Dist_Hospital','Dist_Taxi','Parking']], hue=\"Parking\")\n",
        "# Ada pola menarik?"
      ],
      "metadata": {
        "id": "MpESweKyKAjw"
      },
      "execution_count": null,
      "outputs": []
    },
    {
      "cell_type": "markdown",
      "source": [
        "# **Saving (preprocessed) Data**"
      ],
      "metadata": {
        "id": "8BglTqt1K43j"
      }
    },
    {
      "cell_type": "code",
      "source": [
        "# Saving the preprocessed Data for future use/analysis\n",
        "price2.to_csv(\"data_01_pricing_PreProcessed.csv\", encoding='utf8')"
      ],
      "metadata": {
        "id": "bzFw0iatK-9_"
      },
      "execution_count": null,
      "outputs": []
    },
    {
      "cell_type": "markdown",
      "source": [
        "# **Data Grouping**"
      ],
      "metadata": {
        "id": "HAxnBrTWLUAB"
      }
    },
    {
      "cell_type": "code",
      "source": [
        "# Slicing DataFrame - Just like query in SQL\n",
        "price2[price2[\"City_Category\"] == \"CAT B\"].describe()\n",
        "# Bisa ditambahkan .drop(\"Parking\", axis=1) untuk menghilangkan kolom dengan single value"
      ],
      "metadata": {
        "id": "2b05p14HLTFq"
      },
      "execution_count": null,
      "outputs": []
    },
    {
      "cell_type": "markdown",
      "source": [
        "# **BoxPlot**"
      ],
      "metadata": {
        "id": "oc76P55RLalW"
      }
    },
    {
      "cell_type": "code",
      "source": [
        "# BoxPlots\n",
        "p = sns.boxplot(x=\"House_Price\", y=\"Parking\", data=price2)\n",
        "# Apa makna pola yang terlihat di data oleh BoxPlot ini?"
      ],
      "metadata": {
        "id": "LXbID_sRLgKp"
      },
      "execution_count": null,
      "outputs": []
    },
    {
      "cell_type": "code",
      "source": [
        "# Jika ada outlier grafiknya menjadi tidak jelas (data = price, bukan price2)\n",
        "p = sns.boxplot(x=\"House_Price\", y=\"Parking\", data=price)"
      ],
      "metadata": {
        "id": "poVMs43zLiPO"
      },
      "execution_count": null,
      "outputs": []
    },
    {
      "cell_type": "markdown",
      "source": [
        "Boxplot dapat juga dipisahkan berdasarkan suatu kategori"
      ],
      "metadata": {
        "id": "vPFuqMwFLl38"
      }
    },
    {
      "cell_type": "code",
      "source": [
        "p = sns.catplot(x=\"Parking\", y=\"House_Price\", hue=\"City_Category\", kind=\"box\", data=price2)"
      ],
      "metadata": {
        "id": "rCblO3ccLoUS"
      },
      "execution_count": null,
      "outputs": []
    },
    {
      "cell_type": "markdown",
      "source": [
        "# **Checking Correlations**"
      ],
      "metadata": {
        "id": "x5zYLiJlLvBe"
      }
    },
    {
      "cell_type": "code",
      "source": [
        "price2.corr()"
      ],
      "metadata": {
        "id": "df5ZmVeyLzkf"
      },
      "execution_count": null,
      "outputs": []
    },
    {
      "cell_type": "code",
      "source": [
        "# HeatMap untuk menyelidiki korelasi\n",
        "corr2 = price2.corr() # We already examined SalePrice correlations\n",
        "plt.figure(figsize=(12, 10))\n",
        "\n",
        "sns.heatmap(corr2[(corr2 >= 0.5) | (corr2 <= -0.4)], \n",
        "            cmap='viridis', vmax=1.0, vmin=-1.0, linewidths=0.1,\n",
        "            annot=True, annot_kws={\"size\": 8}, square=True);"
      ],
      "metadata": {
        "id": "8Ajl6E9ML3bW"
      },
      "execution_count": null,
      "outputs": []
    },
    {
      "cell_type": "code",
      "source": [
        "df_iris = pd.read_csv('/content/drive/MyDrive/01. Materi Kuliah UBP Karawang/Data Mining/Kode/Data/iris.csv')\n",
        "pd.plotting.parallel_coordinates(df_iris, 'species', color=('#556270', '#4ECDC4', '#C7F464'))\n",
        "plt.show()"
      ],
      "metadata": {
        "id": "C-UkcZ4bL8d_"
      },
      "execution_count": null,
      "outputs": []
    }
  ]
}