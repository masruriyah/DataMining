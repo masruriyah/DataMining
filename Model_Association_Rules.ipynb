{
  "cells": [
    {
      "cell_type": "code",
      "execution_count": null,
      "metadata": {
        "id": "Y6vlFqHTDeT8"
      },
      "outputs": [],
      "source": [
        "# Warning install \"mlxtend\" module first. Jalankan cell ini Hanya jika menggunakan Google Colaboratory:\n",
        "# Jika menggunakan Jupyter notebook secara lokal (e.g. Anaconda/WinPython) silahkan install lewat terminal (e.g. command prompt)\n",
        "!pip install mlxtend"
      ]
    },
    {
      "cell_type": "code",
      "execution_count": null,
      "metadata": {
        "ExecuteTime": {
          "end_time": "2019-09-30T02:35:09.585298Z",
          "start_time": "2019-09-30T02:35:09.572482Z"
        },
        "id": "n66vSZtBDeT9"
      },
      "outputs": [],
      "source": [
        "import warnings; warnings.simplefilter('ignore')\n",
        "import pandas as pd, matplotlib.pyplot as plt, seaborn as sns\n",
        "from itertools import combinations\n",
        "from collections import Counter\n",
        "from mlxtend.frequent_patterns import apriori\n",
        "from mlxtend.frequent_patterns import association_rules\n",
        "\n",
        "%matplotlib inline\n",
        "plt.style.use('bmh'); sns.set()"
      ]
    },
    {
      "cell_type": "code",
      "execution_count": null,
      "metadata": {
        "ExecuteTime": {
          "end_time": "2019-09-30T02:35:28.746020Z",
          "start_time": "2019-09-30T02:35:28.737986Z"
        },
        "id": "n0MHx-GXDeT9"
      },
      "outputs": [],
      "source": [
        "# In Python\n",
        "T = [\n",
        " ('Bread', 'Milk'),\n",
        " ('Noodle', 'Bread', 'Diaper', 'Eggs', 'Milk', 'Bread', 'Milk', 'Milk'),\n",
        " ('Noodle', 'Coke', 'Diaper', 'Milk'),\n",
        " ('Noodle', 'Bread', 'Diaper', 'Milk'),\n",
        " ('Bread', 'Coke', 'Diaper', 'Milk', 'Diaper'),\n",
        "]\n",
        "T"
      ]
    },
    {
      "cell_type": "code",
      "execution_count": null,
      "metadata": {
        "ExecuteTime": {
          "end_time": "2019-09-30T02:35:59.300528Z",
          "start_time": "2019-09-30T02:35:59.293532Z"
        },
        "id": "oNwSQ1e6DeT9"
      },
      "outputs": [],
      "source": [
        "# Calculating item sets\n",
        "# Nostalgia Matematika Diskrit :)\n",
        "def subsets(S, k):\n",
        "  return [set(s) for s in combinations(S, k)]\n",
        "\n",
        "subsets({1, 2, 3,7, 8}, 3)"
      ]
    },
    {
      "cell_type": "code",
      "execution_count": null,
      "metadata": {
        "ExecuteTime": {
          "end_time": "2019-09-30T02:36:17.181471Z",
          "start_time": "2019-09-30T02:36:17.175973Z"
        },
        "id": "8fvvcSnKDeT-"
      },
      "outputs": [],
      "source": [
        "# Calculating support\n",
        "Counter(T[1])"
      ]
    },
    {
      "cell_type": "code",
      "execution_count": null,
      "metadata": {
        "ExecuteTime": {
          "end_time": "2019-09-30T02:38:24.412481Z",
          "start_time": "2019-09-30T02:36:41.858619Z"
        },
        "id": "oHgfUvaeDeT-"
      },
      "outputs": [],
      "source": [
        "# Using Module\n",
        "# Taken from https://pbpython.com/market-basket-analysis.html\n",
        "# Pertama-tama load Data\n",
        "df = pd.read_excel('http://archive.ics.uci.edu/ml/machine-learning-databases/00352/Online%20Retail.xlsx')\n",
        "df.head()"
      ]
    },
    {
      "cell_type": "code",
      "execution_count": null,
      "metadata": {
        "ExecuteTime": {
          "end_time": "2019-09-30T02:51:36.927405Z",
          "start_time": "2019-09-30T02:51:35.087322Z"
        },
        "id": "0XT_zLblDeT-"
      },
      "outputs": [],
      "source": [
        "# Preprocessing\n",
        "df['Description'] = df['Description'].str.strip() # remove unnecessary spaces\n",
        "df['Description'] = df['Description'].str.lower() # lower case normalization\n",
        "df.dropna(axis=0, subset=['InvoiceNo'], inplace=True) # delete rows with no invoice no\n",
        "df['InvoiceNo'] = df['InvoiceNo'].astype('str') # Change data type\n",
        "df = df[~df['InvoiceNo'].str.contains('c')] # remove invoice with C in it\n",
        "df.head()"
      ]
    },
    {
      "cell_type": "code",
      "execution_count": null,
      "metadata": {
        "ExecuteTime": {
          "end_time": "2019-09-30T02:52:49.048421Z",
          "start_time": "2019-09-30T02:52:47.958092Z"
        },
        "id": "f0imXOYyDeT_"
      },
      "outputs": [],
      "source": [
        "filter = {'pls', 'plas'}\n",
        "for f in filter:\n",
        "    df = df[~df['InvoiceNo'].str.contains(f)] # remove invoice with C in it"
      ]
    },
    {
      "cell_type": "code",
      "execution_count": null,
      "metadata": {
        "ExecuteTime": {
          "end_time": "2019-09-30T02:53:16.132107Z",
          "start_time": "2019-09-30T02:53:16.125531Z"
        },
        "id": "gPYf4-AWDeT_"
      },
      "outputs": [],
      "source": [
        "A = 'ty_pls_c234'\n",
        "\n",
        "A.find('pls')"
      ]
    },
    {
      "cell_type": "code",
      "execution_count": null,
      "metadata": {
        "ExecuteTime": {
          "end_time": "2019-09-30T01:03:39.666838Z",
          "start_time": "2019-09-30T01:03:39.596707Z"
        },
        "id": "CprHC-8IDeT_"
      },
      "outputs": [],
      "source": [
        "# Let's sample the data\n",
        "basket = (df[df['Country'] ==\"France\"])\n",
        "basket.head()"
      ]
    },
    {
      "cell_type": "code",
      "execution_count": null,
      "metadata": {
        "ExecuteTime": {
          "end_time": "2019-09-30T01:03:39.692431Z",
          "start_time": "2019-09-30T01:03:39.669826Z"
        },
        "id": "kSA9HCVvDeT_"
      },
      "outputs": [],
      "source": [
        "# Group the transaction\n",
        "basket = basket.groupby(['InvoiceNo', 'Description'])['Quantity']\n",
        "basket.head()"
      ]
    },
    {
      "cell_type": "code",
      "execution_count": null,
      "metadata": {
        "ExecuteTime": {
          "end_time": "2019-09-30T01:03:39.876512Z",
          "start_time": "2019-09-30T01:03:39.694762Z"
        },
        "id": "BIs0VFikDeUA"
      },
      "outputs": [],
      "source": [
        "# Jumlahkan, unstack, Null=0, index baris menggunakan Nomer Invoice\n",
        "basket = basket.sum().unstack().reset_index().fillna(0).set_index('InvoiceNo')\n",
        "basket.head()"
      ]
    },
    {
      "cell_type": "code",
      "execution_count": null,
      "metadata": {
        "ExecuteTime": {
          "end_time": "2019-09-30T01:03:41.048871Z",
          "start_time": "2019-09-30T01:03:39.878267Z"
        },
        "id": "IdpfRd2FDeUA"
      },
      "outputs": [],
      "source": [
        "def encode_units(x):\n",
        "    if x <= 0:\n",
        "        return 0\n",
        "    if x >= 1:\n",
        "        return 1\n",
        "\n",
        "basket_sets = basket.applymap(encode_units) # one-hot encoding\n",
        "basket_sets.head()"
      ]
    },
    {
      "cell_type": "markdown",
      "metadata": {
        "id": "Z7SXSSlhDeUB"
      },
      "source": [
        "# Understanding the Data Structure"
      ]
    },
    {
      "cell_type": "code",
      "execution_count": null,
      "metadata": {
        "ExecuteTime": {
          "end_time": "2019-09-30T01:03:41.057490Z",
          "start_time": "2019-09-30T01:03:41.051535Z"
        },
        "id": "3jwvQLPmDeUB"
      },
      "outputs": [],
      "source": [
        "basket_sets.columns"
      ]
    },
    {
      "cell_type": "code",
      "execution_count": null,
      "metadata": {
        "ExecuteTime": {
          "end_time": "2019-09-30T01:03:41.070455Z",
          "start_time": "2019-09-30T01:03:41.060482Z"
        },
        "id": "-J1qiPB-DeUB"
      },
      "outputs": [],
      "source": [
        "basket_sets.index"
      ]
    },
    {
      "cell_type": "code",
      "execution_count": null,
      "metadata": {
        "ExecuteTime": {
          "end_time": "2019-09-30T01:03:41.083430Z",
          "start_time": "2019-09-30T01:03:41.073448Z"
        },
        "id": "Prgu2BbTDeUC"
      },
      "outputs": [],
      "source": [
        "basket_sets.iloc[0]"
      ]
    },
    {
      "cell_type": "code",
      "execution_count": null,
      "metadata": {
        "ExecuteTime": {
          "end_time": "2019-09-30T01:03:41.096387Z",
          "start_time": "2019-09-30T01:03:41.086442Z"
        },
        "id": "tNwd7D-qDeUC"
      },
      "outputs": [],
      "source": [
        "basket_sets.iloc[0].sum()"
      ]
    },
    {
      "cell_type": "code",
      "execution_count": null,
      "metadata": {
        "ExecuteTime": {
          "end_time": "2019-09-30T02:43:21.993678Z",
          "start_time": "2019-09-30T02:43:21.957218Z"
        },
        "id": "hINnMSryDeUC"
      },
      "outputs": [],
      "source": [
        "frequent_itemsets = apriori(basket_sets, min_support=0.07, use_colnames=True)\n",
        "frequent_itemsets.sort_values(by='support', ascending=False, na_position='last', inplace = True)\n",
        "frequent_itemsets"
      ]
    },
    {
      "cell_type": "code",
      "execution_count": null,
      "metadata": {
        "ExecuteTime": {
          "end_time": "2019-09-30T02:43:58.877639Z",
          "start_time": "2019-09-30T02:43:58.849320Z"
        },
        "id": "TSJj0iu3DeUC"
      },
      "outputs": [],
      "source": [
        "rules = association_rules(frequent_itemsets, metric=\"lift\", min_threshold=1)\n",
        "rules.sort_values(by='lift', ascending=False, na_position='last', inplace = True)\n",
        "rules.head(10)"
      ]
    },
    {
      "cell_type": "code",
      "execution_count": null,
      "metadata": {
        "ExecuteTime": {
          "end_time": "2019-09-30T01:03:41.209086Z",
          "start_time": "2019-09-30T01:03:41.184153Z"
        },
        "id": "cwX-knrBDeUD"
      },
      "outputs": [],
      "source": [
        "# Filtering\n",
        "rules[ (rules['lift'] >= 6) & (rules['confidence'] >= 0.8) ]"
      ]
    },
    {
      "cell_type": "code",
      "execution_count": null,
      "metadata": {
        "ExecuteTime": {
          "end_time": "2019-09-30T01:03:41.223048Z",
          "start_time": "2019-09-30T01:03:41.216256Z"
        },
        "id": "84yKzXi4DeUD"
      },
      "outputs": [],
      "source": [
        "basket['postage'].sum()"
      ]
    },
    {
      "cell_type": "markdown",
      "metadata": {
        "id": "BKQM1P4ADeUD"
      },
      "source": [
        "# TUGAS\n",
        "<hr>\n",
        "<p><img alt=\"\" src=\"images/10_recommendation_joke.jpg\" style=\"height:445px; width:455px\" /></p>\n",
        "\n",
        "\n",
        "1.   SETM Algorithm \n",
        "2.   AprioriTid Algorithm\n",
        "3.   AprioriHybrid Algorithm\n",
        "\n",
        "Jelaskan perbedaan proses dan hasil setiap algoritma.\n",
        "\n",
        "\n"
      ]
    }
  ],
  "metadata": {
    "celltoolbar": "Slideshow",
    "kernelspec": {
      "display_name": "Python 3",
      "language": "python",
      "name": "python3"
    },
    "language_info": {
      "codemirror_mode": {
        "name": "ipython",
        "version": 3
      },
      "file_extension": ".py",
      "mimetype": "text/x-python",
      "name": "python",
      "nbconvert_exporter": "python",
      "pygments_lexer": "ipython3",
      "version": "3.6.8"
    },
    "latex_envs": {
      "LaTeX_envs_menu_present": true,
      "autoclose": false,
      "autocomplete": true,
      "bibliofile": "biblio.bib",
      "cite_by": "apalike",
      "current_citInitial": 1,
      "eqLabelWithNumbers": true,
      "eqNumInitial": 1,
      "hotkeys": {
        "equation": "Ctrl-E",
        "itemize": "Ctrl-I"
      },
      "labels_anchors": false,
      "latex_user_defs": false,
      "report_style_numbering": false,
      "user_envs_cfg": false
    },
    "colab": {
      "provenance": []
    }
  },
  "nbformat": 4,
  "nbformat_minor": 0
}