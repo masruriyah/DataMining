{
  "nbformat": 4,
  "nbformat_minor": 0,
  "metadata": {
    "colab": {
      "provenance": []
    },
    "kernelspec": {
      "name": "python3",
      "display_name": "Python 3"
    },
    "language_info": {
      "name": "python"
    }
  },
  "cells": [
    {
      "cell_type": "markdown",
      "source": [
        "# **Clustering 01**"
      ],
      "metadata": {
        "id": "9yjDjGo5Jun9"
      }
    },
    {
      "cell_type": "code",
      "source": [
        "import pandas as pd\n",
        "import numpy as np\n",
        "import matplotlib.pyplot as plt\n",
        "import seaborn as sns"
      ],
      "metadata": {
        "id": "V7pGI817ykTV"
      },
      "execution_count": null,
      "outputs": []
    },
    {
      "cell_type": "code",
      "source": [
        "# load the iris data\n",
        "iris = sns.load_dataset(\"iris\")\n",
        "g = sns.pairplot(iris, hue=\"species\")"
      ],
      "metadata": {
        "id": "ma1pQcZS0s2i"
      },
      "execution_count": null,
      "outputs": []
    },
    {
      "cell_type": "code",
      "source": [
        "iris.sample(10)"
      ],
      "metadata": {
        "id": "In84XQZo52lG"
      },
      "execution_count": null,
      "outputs": []
    },
    {
      "cell_type": "code",
      "source": [
        "from sklearn.preprocessing import LabelEncoder\n",
        "\n",
        "iris['species_encoded'] = LabelEncoder().fit_transform(iris['species'])\n",
        "C = iris['species_encoded'].to_numpy()\n",
        "iris.sample(10)"
      ],
      "metadata": {
        "id": "mpIgMBDi7FLD"
      },
      "execution_count": null,
      "outputs": []
    },
    {
      "cell_type": "code",
      "source": [
        "X = iris[['sepal_length','sepal_width','petal_length','petal_width']].to_numpy()\n",
        "print(X.shape, type(X), len(C))"
      ],
      "metadata": {
        "id": "GafvFBB-BpXe"
      },
      "execution_count": null,
      "outputs": []
    },
    {
      "cell_type": "code",
      "source": [
        "# Difference in sepal length and width per species\n",
        "sns.scatterplot(x=iris[\"sepal_length\"], y=iris[\"sepal_width\"], hue=iris[\"species\"])\n",
        "plt.xlabel(\"Sepal Length(cm)\")\n",
        "plt.ylabel(\"Sepal Width(cm)\")\n",
        "plt.show()"
      ],
      "metadata": {
        "id": "EamglhPd74ev"
      },
      "execution_count": null,
      "outputs": []
    },
    {
      "cell_type": "code",
      "source": [
        "sns.scatterplot(x=iris[\"petal_length\"], y=iris[\"petal_width\"], hue=iris[\"species\"])\n",
        "plt.xlabel(\"Petal Length(cm)\")\n",
        "plt.ylabel(\"Petal Width(cm)\")\n",
        "plt.show()"
      ],
      "metadata": {
        "id": "1qTaW6D5CroJ"
      },
      "execution_count": null,
      "outputs": []
    },
    {
      "cell_type": "code",
      "source": [
        "# Create the sample(data)\n",
        "iris_sample = iris.drop([\"species\", \"species_encoded\"], axis=1).values\n",
        "species = iris[\"species\"].values\n",
        "\n",
        "iris_sample[:5]"
      ],
      "metadata": {
        "id": "VWJ_7FsA7_ul"
      },
      "execution_count": null,
      "outputs": []
    },
    {
      "cell_type": "code",
      "source": [
        "species[:5]"
      ],
      "metadata": {
        "id": "HRGT8pY-8Z7V"
      },
      "execution_count": null,
      "outputs": []
    },
    {
      "cell_type": "code",
      "source": [
        "from sklearn.cluster import KMeans\n",
        "\n",
        "np.random.seed(42)\n",
        "\n",
        "# Instantiate the KMeans model\n",
        "kmean = KMeans(n_clusters=3)\n",
        "\n",
        "# Fit the model to the sample\n",
        "kmean.fit(iris_sample)"
      ],
      "metadata": {
        "id": "0Nve-3BA9bws"
      },
      "execution_count": null,
      "outputs": []
    },
    {
      "cell_type": "code",
      "source": [
        "# Predict the labels\n",
        "labels = kmean.predict(iris_sample)\n",
        "labels[:5]"
      ],
      "metadata": {
        "id": "kxl0ZN5n9d2D"
      },
      "execution_count": null,
      "outputs": []
    },
    {
      "cell_type": "code",
      "source": [
        "df = pd.DataFrame({\n",
        "    \"labels\": labels,\n",
        "    \"species\": species\n",
        "})\n",
        "df.head()"
      ],
      "metadata": {
        "id": "4xflGxh29i1j"
      },
      "execution_count": null,
      "outputs": []
    },
    {
      "cell_type": "code",
      "source": [
        "# Crosstab\n",
        "pd.crosstab(df[\"labels\"], df[\"species\"])"
      ],
      "metadata": {
        "id": "0mVI4J5T9l-I"
      },
      "execution_count": null,
      "outputs": []
    },
    {
      "cell_type": "code",
      "source": [
        "# Using inertia\n",
        "kmean.inertia_"
      ],
      "metadata": {
        "id": "uQPkCl4Y9o90"
      },
      "execution_count": null,
      "outputs": []
    },
    {
      "cell_type": "code",
      "source": [
        "# You can compare different number of clusters\n",
        "clusters = np.arange(1,6)\n",
        "inertia = []\n",
        "\n",
        "for c in clusters:\n",
        "    model = KMeans(n_clusters=c)\n",
        "    model.fit(iris_sample)\n",
        "    inertia.append(model.inertia_)\n",
        "    \n",
        "plt.plot(clusters, inertia, marker=\"o\")\n",
        "plt.xlabel(\"Number of clusters(k)\")\n",
        "plt.ylabel(\"Inertia\")\n",
        "plt.show()"
      ],
      "metadata": {
        "id": "jYr6JAme9r7q"
      },
      "execution_count": null,
      "outputs": []
    },
    {
      "cell_type": "code",
      "source": [
        "from sklearn.preprocessing import StandardScaler\n",
        "from sklearn.pipeline import make_pipeline\n",
        "\n",
        "np.random.seed(42)\n",
        "\n",
        "kmeans = KMeans(n_clusters=3)\n",
        "sc = StandardScaler()\n",
        "\n",
        "# Pipeline\n",
        "pipeline = make_pipeline(sc, kmeans)\n",
        "\n",
        "# Fit the pipeline on the sample\n",
        "pipeline.fit(iris_sample)\n",
        "\n",
        "# Predictions\n",
        "labels = pipeline.predict(iris_sample)"
      ],
      "metadata": {
        "id": "BpG3sopX9vk6"
      },
      "execution_count": null,
      "outputs": []
    },
    {
      "cell_type": "code",
      "source": [
        "# Evaluate using cross tab\n",
        "df = pd.DataFrame({\n",
        "    \"labels\": labels,\n",
        "    \"species\": species\n",
        "})\n",
        "\n",
        "# Crosstab\n",
        "pd.crosstab(df[\"labels\"], df[\"species\"])"
      ],
      "metadata": {
        "id": "pQ50i5UA9-R5"
      },
      "execution_count": null,
      "outputs": []
    },
    {
      "cell_type": "code",
      "source": [
        "# Using inertia\n",
        "kmean.inertia_"
      ],
      "metadata": {
        "id": "9EVcCDil-Bw-"
      },
      "execution_count": null,
      "outputs": []
    },
    {
      "cell_type": "code",
      "source": [
        "# Add labels to the iris dataset to see if they were really correct\n",
        "iris[\"labels\"] = labels\n",
        "iris.head()"
      ],
      "metadata": {
        "id": "R3PYQ1sm-Fo4"
      },
      "execution_count": null,
      "outputs": []
    },
    {
      "cell_type": "code",
      "source": [
        "sns.scatterplot(x=iris[\"petal_length\"], y=iris[\"sepal_length\"], hue=iris[\"labels\"])\n",
        "plt.xlabel(\"Petal Length(cm)\")\n",
        "plt.ylabel(\"Sepal Length(cm)\")\n",
        "plt.show()"
      ],
      "metadata": {
        "id": "Y7AQKQhX-I4W"
      },
      "execution_count": null,
      "outputs": []
    },
    {
      "cell_type": "code",
      "source": [
        "sns.scatterplot(x=iris[\"petal_length\"], y=iris[\"petal_width\"], hue=iris[\"labels\"])\n",
        "plt.xlabel(\"Petal Length(cm)\")\n",
        "plt.ylabel(\"Petal Width(cm)\")\n",
        "plt.show()"
      ],
      "metadata": {
        "id": "WKXBNWZb-L_D"
      },
      "execution_count": null,
      "outputs": []
    },
    {
      "cell_type": "markdown",
      "source": [
        "# **Clustering 02**"
      ],
      "metadata": {
        "id": "y_92MXLlJ-Fd"
      }
    },
    {
      "cell_type": "code",
      "source": [
        "!pip install --upgrade umap-learn\n",
        "!wget https://raw.githubusercontent.com/masruriyah/DataMining/master/Ruri_unsup.py"
      ],
      "metadata": {
        "id": "YO3li3cvL6_K"
      },
      "execution_count": null,
      "outputs": []
    },
    {
      "cell_type": "code",
      "source": [
        "# Importing Modules untuk Notebook ini\n",
        "import warnings; warnings.simplefilter('ignore')\n",
        "import umap, numpy as np, Ruri_unsup as runsup, matplotlib.pyplot as plt, pandas as pd, seaborn as sns\n",
        "from sklearn import cluster, datasets\n",
        "from sklearn.metrics import silhouette_score as siluet\n",
        "from sklearn.metrics.cluster import homogeneity_score as purity\n",
        "from sklearn.metrics import normalized_mutual_info_score as NMI \n",
        "\n",
        "sns.set(style=\"ticks\", color_codes=True)\n",
        "random_state = 99"
      ],
      "metadata": {
        "id": "bo3S_iYLKBiQ"
      },
      "execution_count": null,
      "outputs": []
    },
    {
      "cell_type": "code",
      "source": [
        "# Kita akan menggunakan 2 data: [1]. Iris dan [2]. Data untuk Studi Kasus (tentang Energy) - di bagian akhir\n",
        "# load the iris data\n",
        "df = sns.load_dataset(\"iris\")\n",
        "X = df[['sepal_length','sepal_width','petal_length','petal_width']]#.values\n",
        "C = df['species']#.values\n",
        "print(X.shape)\n",
        "df.sample(7)"
      ],
      "metadata": {
        "id": "eN1A3WIxMd7Y"
      },
      "execution_count": null,
      "outputs": []
    },
    {
      "cell_type": "code",
      "source": [
        "g = sns.pairplot(df, hue=\"species\")"
      ],
      "metadata": {
        "id": "xnU8CmzLMflx"
      },
      "execution_count": null,
      "outputs": []
    },
    {
      "cell_type": "code",
      "source": [
        "# k-means: http://scikit-learn.org/stable/modules/generated/sklearn.cluster.KMeans.html#sklearn.cluster.KMeans\n",
        "# \n",
        "k = 3\n",
        "km = cluster.KMeans(n_clusters=k, init='random', random_state = 0)\n",
        "km.fit(X)\n",
        "# Hasil clusteringnya\n",
        "C_km = km.predict(X)\n",
        "p= sns.countplot(x=C_km)"
      ],
      "metadata": {
        "id": "cp2k5AzcMlsQ"
      },
      "execution_count": null,
      "outputs": []
    },
    {
      "cell_type": "code",
      "source": [
        "# \"Label\" hasil clustering k-Means diatas.\n",
        "C_km"
      ],
      "metadata": {
        "id": "3BIEX1oAMxXZ"
      },
      "execution_count": null,
      "outputs": []
    },
    {
      "cell_type": "code",
      "source": [
        "X2D = umap.UMAP(n_neighbors=5, min_dist=0.3, random_state=random_state).fit_transform(X)\n",
        "fig, ax = plt.subplots()\n",
        "ax.scatter(X2D[:,0], X2D[:,1], c=C_km)\n",
        "plt.show()"
      ],
      "metadata": {
        "id": "PAAQ7A7EM4oA"
      },
      "execution_count": null,
      "outputs": []
    },
    {
      "cell_type": "code",
      "source": [
        "df['k-means'] = C_km\n",
        "g = sns.pairplot(df[['sepal_length','sepal_width','petal_length','petal_width','k-means']], \\\n",
        "                 hue=\"k-means\", diag_kind=\"hist\", palette=\"tab10\")"
      ],
      "metadata": {
        "id": "MrP7_3F8NJ-7"
      },
      "execution_count": null,
      "outputs": []
    },
    {
      "cell_type": "code",
      "source": [
        "# k-means: http://scikit-learn.org/stable/modules/generated/sklearn.cluster.KMeans.html#sklearn.cluster.KMeans\n",
        "k = 3\n",
        "km = cluster.KMeans(n_clusters=k, init='random', max_iter=300, tol=0.0001, random_state = 0)\n",
        "km.fit(X)\n",
        "# Hasil clusteringnya\n",
        "C_km = km.predict(X)\n",
        "p= sns.countplot(x=C_km)"
      ],
      "metadata": {
        "id": "_ATeD0BRNY7-"
      },
      "execution_count": null,
      "outputs": []
    },
    {
      "cell_type": "code",
      "source": [
        "# k-means++ clustering http://scikit-learn.org/stable/modules/generated/sklearn.cluster.KMeans.html\n",
        "k=3\n",
        "kmPP = cluster.KMeans(n_clusters=k, init='k-means++', max_iter=300, tol=0.0001, random_state = random_state)\n",
        "kmPP.fit(X)\n",
        "C_kmpp = kmPP.predict(X)\n",
        "\n",
        "sns.countplot(x=C_kmpp)\n",
        "C_kmpp[:10]"
      ],
      "metadata": {
        "id": "6IOH1YoNNrUl"
      },
      "execution_count": null,
      "outputs": []
    },
    {
      "cell_type": "code",
      "source": [
        "df['k-means++'] = C_kmpp\n",
        "g = sns.pairplot(df[['sepal_length','sepal_width','petal_length','petal_width','k-means++']], \\\n",
        "                 hue=\"k-means++\", diag_kind=\"hist\", palette=\"tab10\")"
      ],
      "metadata": {
        "id": "lzauPjITN29o"
      },
      "execution_count": null,
      "outputs": []
    },
    {
      "cell_type": "code",
      "source": [
        "# MiniBatch k-Means http://scikit-learn.org/stable/modules/generated/sklearn.cluster.MiniBatchKMeans.html\n",
        "mbkm = cluster.MiniBatchKMeans(n_clusters=k, init='random', \\\n",
        "                               max_iter=300, tol=0.0001, batch_size = 100, random_state = random_state) \n",
        "mbkm.fit(X)\n",
        "C_mbkm = mbkm.predict(X)\n",
        "sns.countplot(x=C_mbkm)\n",
        "C_mbkm[:10]"
      ],
      "metadata": {
        "id": "gya6m0_DN9pg"
      },
      "execution_count": null,
      "outputs": []
    },
    {
      "cell_type": "code",
      "source": [
        "df['mini-k-means'] = C_mbkm\n",
        "g = sns.pairplot(df[['sepal_length','sepal_width','petal_length','petal_width','mini-k-means']], \\\n",
        "                 hue=\"mini-k-means\", diag_kind=\"hist\", palette=\"tab10\")"
      ],
      "metadata": {
        "id": "h4wQKrNgODgc"
      },
      "execution_count": null,
      "outputs": []
    },
    {
      "cell_type": "code",
      "source": [
        "# MiniBatch k-Means++\n",
        "mbkmPP = cluster.MiniBatchKMeans(n_clusters=k, init='k-means++', \\\n",
        "                                 max_iter=300, tol=0.0001, random_state = random_state) \n",
        "mbkmPP.fit(X)\n",
        "C_mbkmPP = mbkmPP.predict(X)\n",
        "sns.countplot(x=C_mbkmPP)\n",
        "C_mbkmPP[:10]"
      ],
      "metadata": {
        "id": "Ah29HcvzOVLg"
      },
      "execution_count": null,
      "outputs": []
    },
    {
      "cell_type": "code",
      "source": [
        "# Saving the Clustering results for future use/analysis\n",
        "!mkdir data\n",
        "df.to_csv(\"data/df_Module-05.csv\", encoding='utf8', index=False)"
      ],
      "metadata": {
        "id": "whlMIDVROZgF"
      },
      "execution_count": null,
      "outputs": []
    },
    {
      "cell_type": "code",
      "source": [
        "# Mari kita lakukan ulang clustering k-Means sebelumnya\n",
        "k = 3\n",
        "km = cluster.KMeans(n_clusters=k, init='random', max_iter=300, tol=0.0001, random_state = 0)\n",
        "km.fit(X)\n",
        "# Hasil clusteringnya\n",
        "C_km = km.predict(X)\n",
        "p= sns.countplot(x=C_km)"
      ],
      "metadata": {
        "id": "W0TtKR3MRoit"
      },
      "execution_count": null,
      "outputs": []
    },
    {
      "cell_type": "code",
      "source": [
        "# Perhatikan inertia menggunakan variabel \"km\" BUKAN C_km\n",
        "km.inertia_"
      ],
      "metadata": {
        "id": "9Em_x7uCRw0U"
      },
      "execution_count": null,
      "outputs": []
    },
    {
      "cell_type": "code",
      "source": [
        "distorsions, k1, kN = [], 2, 10\n",
        "for k in range(k1, kN):\n",
        "    kmeans = cluster.KMeans(n_clusters=k).fit(X)\n",
        "    distorsions.append(kmeans.inertia_)\n",
        "\n",
        "plt.plot(range(k1, kN), distorsions); plt.grid(True)\n",
        "plt.title('Elbow curve')"
      ],
      "metadata": {
        "id": "BMkbGG0WR4_x"
      },
      "execution_count": null,
      "outputs": []
    },
    {
      "cell_type": "code",
      "source": [
        "runsup.sil_based_optimal_km()\n"
      ],
      "metadata": {
        "id": "0OQQXQU6R_K2"
      },
      "execution_count": null,
      "outputs": []
    },
    {
      "cell_type": "code",
      "source": [
        "#Evaluasi : Internal . Contoh Silouette Coefficient ==> warning hanya cocok untuk k-means (centroid-based clustering)\n",
        "Hasil_Clustering = [C_km, C_kmpp, C_mbkm, C_mbkmPP]\n",
        "for res in Hasil_Clustering:\n",
        "    print(siluet(X,res), end=', ')"
      ],
      "metadata": {
        "id": "bxc7xELvSQvu"
      },
      "execution_count": null,
      "outputs": []
    },
    {
      "cell_type": "code",
      "source": [
        "# Bagaimana dengan evaluasi External?\n",
        "# \"C\" adalah golden standard dalam hal ini misal spesies bunga iris menurut para ahli biologi\n",
        "for res in Hasil_Clustering:\n",
        "    print(purity(C,res), end=', ')"
      ],
      "metadata": {
        "id": "1N80mVFWSYYO"
      },
      "execution_count": null,
      "outputs": []
    },
    {
      "cell_type": "code",
      "source": [
        "kmPP.cluster_centers_"
      ],
      "metadata": {
        "id": "zcT0IzXvSxKJ"
      },
      "execution_count": null,
      "outputs": []
    },
    {
      "cell_type": "code",
      "source": [
        "# Evaluasi sebenarnya tidak terlalu penting di Unsupervised learning.\n",
        "# inilah yang membedakan \"clustering\" dan \"clustering Analysis\"\n",
        "# yang lebih penting adalah interpretasi, tapi Bagaimana?\n",
        "# contoh k-means++\n",
        "\n",
        "cols = ['sepal_length','sepal_width','petal_length','petal_width']\n",
        "dfC = pd.DataFrame(kmPP.cluster_centers_, columns=cols)\n",
        "dfC['cluster'] = dfC.index\n",
        "\n",
        "pd.plotting.parallel_coordinates(dfC, 'cluster', color=('r', 'g', 'b'))\n",
        "plt.show()"
      ],
      "metadata": {
        "id": "x1qlBkvfSyYi"
      },
      "execution_count": null,
      "outputs": []
    },
    {
      "cell_type": "code",
      "source": [
        "!mkdir data\n",
        "!pip install scikit-learn-extra"
      ],
      "metadata": {
        "id": "VEcnoWKNS-K-"
      },
      "execution_count": null,
      "outputs": []
    },
    {
      "cell_type": "code",
      "source": [
        "# Importing Modules untuk Notebook ini\n",
        "import warnings; warnings.simplefilter('ignore')\n",
        "import numpy as np, matplotlib.pyplot as plt, pandas as pd, seaborn as sns\n",
        "from sklearn import cluster\n",
        "from scipy.spatial import distance\n",
        "from scipy.cluster.hierarchy import dendrogram, linkage\n",
        "import scipy.spatial.distance\n",
        "from sklearn_extra.cluster import KMedoids\n",
        "from sklearn.ensemble import IsolationForest\n",
        "\n",
        "sns.set(style=\"ticks\", color_codes=True)\n",
        "random_state = 99"
      ],
      "metadata": {
        "id": "ltLV0mSoTQwF"
      },
      "execution_count": null,
      "outputs": []
    },
    {
      "cell_type": "code",
      "source": [
        "# Loading the clustering Data from the previous module\n",
        "file_ = 'data/df_Module-05.csv'\n",
        "try: # Running Locally, yakinkan \"file_\" berada di folder \"data\"\n",
        "    df = pd.read_csv(file_, error_bad_lines=False, low_memory = False, encoding='utf8')\n",
        "except: # Running in Google Colab\n",
        "    !mkdir data\n",
        "    !wget -P data/ https://raw.githubusercontent.com/taudata-indonesia/ptpjb/master/{file_}\n",
        "    df = pd.read_csv(file_, error_bad_lines=False, low_memory = False, encoding='utf8')\n",
        "\n",
        "X = df[['sepal_length','sepal_width','petal_length','petal_width']]\n",
        "C = df['species']#.values\n",
        "df.head()\n"
      ],
      "metadata": {
        "id": "1VQV_qSaTVzu"
      },
      "execution_count": null,
      "outputs": []
    },
    {
      "cell_type": "code",
      "source": [
        "# Toy-data ==> ini perlu di riset\n",
        "A = np.array([[2, 0], [1, 2], [2, 2], [7, 2], [6, 1], [7, 0], [10,10]])\n",
        "fig, ax = plt.subplots()\n",
        "ax.scatter(A[:,0], A[:,1])\n",
        "plt.show()"
      ],
      "metadata": {
        "id": "qLFBkcHKTiuO"
      },
      "execution_count": null,
      "outputs": []
    },
    {
      "cell_type": "code",
      "source": [
        "# Solusi k-Means\n",
        "km = cluster.KMeans(n_clusters=2, init='k-means++').fit(A)\n",
        "C_km = km.predict(A)\n",
        "centroid_km = km.cluster_centers_\n",
        "\n",
        "# Solusi k-Medoid: https://scikit-learn-extra.readthedocs.io/en/stable/generated/sklearn_extra.cluster.KMedoids.html\n",
        "kmedoids = KMedoids(n_clusters=2).fit(A)\n",
        "C_med = kmedoids.predict(A)\n",
        "centroid_med = kmedoids.cluster_centers_\n",
        "\"Done\""
      ],
      "metadata": {
        "id": "LKzIc8ZyTnX0"
      },
      "execution_count": null,
      "outputs": []
    },
    {
      "cell_type": "code",
      "source": [
        "# Plot Solusi k-Means\n",
        "fig, ax = plt.subplots()\n",
        "ax.scatter(A[:,0], A[:,1], c=C_km, s=100) # s= size\n",
        "ax.scatter(centroid_km[:,0], centroid_km[:,1], c=\"red\", s=30) # Centroid k-Means \"Red\"\n",
        "plt.show()\n",
        "C_km"
      ],
      "metadata": {
        "id": "V-2TZZfHTqvO"
      },
      "execution_count": null,
      "outputs": []
    },
    {
      "cell_type": "code",
      "source": [
        "# Plot Solusi k-Medoid\n",
        "fig, ax = plt.subplots()\n",
        "ax.scatter(A[:,0], A[:,1], c=C_med, s=100)\n",
        "ax.scatter(centroid_med[:,0], centroid_med[:,1], c=\"green\", s=30) # Centroid k-Medoid \"Green\"\n",
        "plt.show() \n",
        "# Di Contoh ini terlihat pentingnya Outlier detection!"
      ],
      "metadata": {
        "id": "KbGDVDhyTuDg"
      },
      "execution_count": null,
      "outputs": []
    },
    {
      "cell_type": "code",
      "source": [
        "kmedoids = KMedoids(n_clusters=3).fit(X)\n",
        "C_medoid = kmedoids.predict(X)\n",
        "sns.countplot(x=C_medoid)\n",
        "C_medoid[:10]"
      ],
      "metadata": {
        "id": "Vejn11KqUSfn"
      },
      "execution_count": null,
      "outputs": []
    },
    {
      "cell_type": "code",
      "source": [
        "df['k-medoid'] = C_medoid\n",
        "# Saving the Clustering results for future use/analysis\n",
        "df.to_csv(\"data/df_Module-06.csv\", encoding='utf8', index=False)\n",
        "# Plot the clustering result\n",
        "g = sns.pairplot(df[['sepal_length','sepal_width','petal_length','petal_width','k-medoid']], \\\n",
        "                 hue=\"k-medoid\", diag_kind=\"hist\", palette=\"tab10\")\n"
      ],
      "metadata": {
        "id": "RwSmNzWJUY_f"
      },
      "execution_count": null,
      "outputs": []
    },
    {
      "cell_type": "code",
      "source": [
        "# Hierarchical http://scikit-learn.org/stable/modules/generated/sklearn.cluster.AgglomerativeClustering.html#sklearn.cluster.AgglomerativeClustering\n",
        "hierarchical = cluster.AgglomerativeClustering(n_clusters=3, linkage='average', affinity = 'euclidean')\n",
        "hierarchical.fit(X) # Lambat .... dan menggunakan banyak memori O(N^2 log(N))\n",
        "C_h = hierarchical.labels_.astype(np.int)\n",
        "\n",
        "sns.countplot(x=C_h)\n",
        "C_h[:10]"
      ],
      "metadata": {
        "id": "oIpzgf3wUdbg"
      },
      "execution_count": null,
      "outputs": []
    },
    {
      "cell_type": "code",
      "source": [
        "df['Hierarchical'] = C_h\n",
        "# Saving the Clustering results for future use/analysis\n",
        "df.to_csv(\"data/df_Module-06.csv\", encoding='utf8', index=False)\n",
        "# Plot the clustering result\n",
        "g = sns.pairplot(df[['sepal_length','sepal_width','petal_length','petal_width','Hierarchical']], \\\n",
        "                 hue=\"Hierarchical\", diag_kind=\"hist\", palette=\"tab10\")"
      ],
      "metadata": {
        "id": "783XxC4qUh6x"
      },
      "execution_count": null,
      "outputs": []
    },
    {
      "cell_type": "code",
      "source": [
        "# Dendogram Example\n",
        "# http://seaborn.pydata.org/generated/seaborn.clustermap.html\n",
        "g = sns.clustermap(X, method=\"average\", metric=\"euclidean\")"
      ],
      "metadata": {
        "id": "pg4bqklVUub1"
      },
      "execution_count": null,
      "outputs": []
    },
    {
      "cell_type": "code",
      "source": [
        "# Ilustrasi Jika Data tidak terlalu banyak\n",
        "N = 30 # sampel 30 record\n",
        "S = X.sample(N)\n",
        "Nama = [\"Bunga-\"+str(i) for i in range(N)]\n",
        "M = scipy.spatial.distance.pdist(S, 'euclidean')\n",
        "print(S.shape, M.shape)\n",
        "S.head()"
      ],
      "metadata": {
        "id": "buEv6d-iUzIt"
      },
      "execution_count": null,
      "outputs": []
    },
    {
      "cell_type": "code",
      "source": [
        "plt.figure(figsize=(12, 16))\n",
        "dists = scipy.spatial.distance.squareform(M)\n",
        "Z = linkage(dists, \"average\")\n",
        "dendrogram(Z, labels=Nama, leaf_font_size=12, orientation='right')\n",
        "plt.title(\"Clustering Sampel Bunga Iris\")\n",
        "plt.show()"
      ],
      "metadata": {
        "id": "z-Y5CyO-U21x"
      },
      "execution_count": null,
      "outputs": []
    },
    {
      "cell_type": "code",
      "source": [
        "# DBSCAN http://scikit-learn.org/stable/modules/generated/sklearn.cluster.DBSCAN.html\n",
        "# tidak membutuhkan input parameter k!!!... sangat bermanfaat untuk clustering data yang besar\n",
        "dbscan = cluster.DBSCAN(eps=0.625, min_samples=5, metric='euclidean')\n",
        "dbscan.fit(X)\n",
        "C_db = dbscan.labels_.astype(np.int)\n",
        "sns.countplot(x=C_db)\n",
        "C_db[:10]\n",
        "# apa makna cluster label -1?"
      ],
      "metadata": {
        "id": "S-MpkvaIU_-_"
      },
      "execution_count": null,
      "outputs": []
    },
    {
      "cell_type": "code",
      "source": [
        "# Banyaknya outlier terdeteksi\n",
        "sum([1 for i in C_db if i==-1])"
      ],
      "metadata": {
        "id": "5SMzM1xIVFCr"
      },
      "execution_count": null,
      "outputs": []
    },
    {
      "cell_type": "code",
      "source": [
        "df['Dbscan'] = C_db\n",
        "# Saving the Clustering results for future use/analysis\n",
        "df.to_csv(\"data/df_Module-06.csv\", encoding='utf8', index=False)\n",
        "# Plot the clustering result\n",
        "g = sns.pairplot(df[['sepal_length','sepal_width','petal_length','petal_width','Dbscan']], \\\n",
        "                 hue=\"Dbscan\", diag_kind=\"hist\", palette=\"tab10\")"
      ],
      "metadata": {
        "id": "6RY3-8qCVJNG"
      },
      "execution_count": null,
      "outputs": []
    }
  ]
}